{
 "cells": [
  {
   "attachments": {},
   "cell_type": "markdown",
   "metadata": {},
   "source": [
    "## 13. Functions\n",
    "- ### Defining a function"
   ]
  },
  {
   "cell_type": "code",
   "execution_count": 7,
   "metadata": {},
   "outputs": [
    {
     "name": "stdout",
     "output_type": "stream",
     "text": [
      "The number is odd\n",
      "The number is even\n"
     ]
    }
   ],
   "source": [
    "num = 6\n",
    "def checker(num):\n",
    "    if num % 2 == 0:\n",
    "        print(\"The number is even\")\n",
    "    else:\n",
    "        print(\"The number is odd\")\n",
    "checker(5)\n",
    "checker(6)"
   ]
  },
  {
   "attachments": {},
   "cell_type": "markdown",
   "metadata": {},
   "source": [
    "- ### Paramters & Arguments"
   ]
  },
  {
   "cell_type": "code",
   "execution_count": 5,
   "metadata": {},
   "outputs": [
    {
     "name": "stdout",
     "output_type": "stream",
     "text": [
      "6\n",
      "20\n"
     ]
    }
   ],
   "source": [
    "def sumPrinter(num_array):\n",
    "    sum = 0\n",
    "    for i in num_array:\n",
    "        sum += i\n",
    "    print(sum)\n",
    "myArr = [2,4,6,8]\n",
    "sumPrinter([1,2,3])\n",
    "sumPrinter(myArr)\n"
   ]
  },
  {
   "cell_type": "code",
   "execution_count": 6,
   "metadata": {},
   "outputs": [
    {
     "name": "stdout",
     "output_type": "stream",
     "text": [
      "6\n"
     ]
    },
    {
     "ename": "TypeError",
     "evalue": "multiply() missing 1 required positional argument: 'c'",
     "output_type": "error",
     "traceback": [
      "\u001b[1;31m---------------------------------------------------------------------------\u001b[0m",
      "\u001b[1;31mTypeError\u001b[0m                                 Traceback (most recent call last)",
      "Cell \u001b[1;32mIn[6], line 5\u001b[0m\n\u001b[0;32m      2\u001b[0m     \u001b[38;5;28mprint\u001b[39m(a\u001b[38;5;241m*\u001b[39mb\u001b[38;5;241m*\u001b[39mc)\n\u001b[0;32m      4\u001b[0m multiply(\u001b[38;5;241m1\u001b[39m,\u001b[38;5;241m2\u001b[39m,\u001b[38;5;241m3\u001b[39m)\n\u001b[1;32m----> 5\u001b[0m \u001b[43mmultiply\u001b[49m\u001b[43m(\u001b[49m\u001b[38;5;241;43m1\u001b[39;49m\u001b[43m,\u001b[49m\u001b[38;5;241;43m2\u001b[39;49m\u001b[43m)\u001b[49m\n\u001b[0;32m      6\u001b[0m multiply(\u001b[38;5;241m1\u001b[39m,\u001b[38;5;241m2\u001b[39m,\u001b[38;5;241m3\u001b[39m,\u001b[38;5;241m4\u001b[39m)\n",
      "\u001b[1;31mTypeError\u001b[0m: multiply() missing 1 required positional argument: 'c'"
     ]
    }
   ],
   "source": [
    "def multiply(a,b,c):\n",
    "    print(a*b*c)\n",
    "\n",
    "multiply(1,2,3)\n",
    "multiply(1,2)\n",
    "multiply(1,2,3,4)"
   ]
  },
  {
   "attachments": {},
   "cell_type": "markdown",
   "metadata": {},
   "source": [
    "- ### Default Parameters"
   ]
  },
  {
   "cell_type": "code",
   "execution_count": 17,
   "metadata": {},
   "outputs": [
    {
     "name": "stdout",
     "output_type": "stream",
     "text": [
      "I live at 10, 18th main, Bangalore, Karnataka, None\n"
     ]
    }
   ],
   "source": [
    "def printAddress(doorNum, street, city, state, country=\"India\"):\n",
    "#def printAddress(doorNum, street, city, state, country=None):\n",
    "    print(f\"I live at {doorNum}, {street}, {city}, {state}, {country}\")\n",
    "printAddress(10, \"18th main\", \"Bangalore\", \"Karnataka\")\n",
    "#printAddress(\"18th main\", \"Bangalore\", \"Karnataka\")\n",
    "#printAddress(10, \"18th main\", \"Bangalore\", \"Karnataka\", \"Paris\")"
   ]
  },
  {
   "attachments": {},
   "cell_type": "markdown",
   "metadata": {},
   "source": [
    "- ### `return`"
   ]
  },
  {
   "cell_type": "code",
   "execution_count": 38,
   "metadata": {},
   "outputs": [
    {
     "name": "stdout",
     "output_type": "stream",
     "text": [
      "6\n"
     ]
    }
   ],
   "source": [
    "# val = multiply(1,2,3)\n",
    "# print(val)\n",
    "result = 0\n",
    "def multiply2(a,b,c):\n",
    "    result = a*b*c\n",
    "    return result\n",
    "    # return a*b*c\n",
    "val = multiply2(1,2,3)\n",
    "print(val)"
   ]
  },
  {
   "attachments": {},
   "cell_type": "markdown",
   "metadata": {},
   "source": [
    "- ### Scope"
   ]
  },
  {
   "cell_type": "code",
   "execution_count": 37,
   "metadata": {},
   "outputs": [
    {
     "name": "stdout",
     "output_type": "stream",
     "text": [
      "0\n"
     ]
    }
   ],
   "source": [
    "print(result)"
   ]
  },
  {
   "cell_type": "code",
   "execution_count": 48,
   "metadata": {},
   "outputs": [
    {
     "ename": "ZeroDivisionError",
     "evalue": "division by zero",
     "output_type": "error",
     "traceback": [
      "\u001b[1;31m---------------------------------------------------------------------------\u001b[0m",
      "\u001b[1;31mZeroDivisionError\u001b[0m                         Traceback (most recent call last)",
      "Cell \u001b[1;32mIn[48], line 4\u001b[0m\n\u001b[0;32m      2\u001b[0m \u001b[38;5;28;01mdef\u001b[39;00m \u001b[38;5;21mdivideByZero\u001b[39m(num):\n\u001b[0;32m      3\u001b[0m     \u001b[38;5;28;01mreturn\u001b[39;00m num\u001b[38;5;241m/\u001b[39m\u001b[38;5;241m0\u001b[39m\n\u001b[1;32m----> 4\u001b[0m \u001b[43mdivideByZero\u001b[49m\u001b[43m(\u001b[49m\u001b[38;5;241;43m2\u001b[39;49m\u001b[43m)\u001b[49m\n\u001b[0;32m      5\u001b[0m \u001b[38;5;28mprint\u001b[39m(\u001b[38;5;124m\"\u001b[39m\u001b[38;5;124mHey let me get executed please\u001b[39m\u001b[38;5;124m\"\u001b[39m)\n",
      "Cell \u001b[1;32mIn[48], line 3\u001b[0m, in \u001b[0;36mdivideByZero\u001b[1;34m(num)\u001b[0m\n\u001b[0;32m      2\u001b[0m \u001b[38;5;28;01mdef\u001b[39;00m \u001b[38;5;21mdivideByZero\u001b[39m(num):\n\u001b[1;32m----> 3\u001b[0m     \u001b[38;5;28;01mreturn\u001b[39;00m \u001b[43mnum\u001b[49m\u001b[38;5;241;43m/\u001b[39;49m\u001b[38;5;241;43m0\u001b[39;49m\n",
      "\u001b[1;31mZeroDivisionError\u001b[0m: division by zero"
     ]
    }
   ],
   "source": [
    "# try - except\n",
    "def divideByZero(num):\n",
    "    return num/0\n",
    "divideByZero(2)\n",
    "print(\"Hey let me get executed please\")\n",
    "    "
   ]
  },
  {
   "cell_type": "code",
   "execution_count": 47,
   "metadata": {},
   "outputs": [
    {
     "name": "stdout",
     "output_type": "stream",
     "text": [
      "I ran into some error\n"
     ]
    }
   ],
   "source": [
    "try:\n",
    "    divideByZero(2)\n",
    "    #print(\"There is no error\")\n",
    "except:\n",
    "    print(\"I ran into some error\")\n"
   ]
  },
  {
   "cell_type": "code",
   "execution_count": 57,
   "metadata": {},
   "outputs": [
    {
     "name": "stdout",
     "output_type": "stream",
     "text": [
      "name 'notdefined' is not defined\n"
     ]
    }
   ],
   "source": [
    "try:\n",
    "    #divideByZero(2)\n",
    "    notdefined +=1\n",
    "except ZeroDivisionError:  \n",
    "    print(\"someone tried to divide by zero\") \n",
    "except Exception as e:\n",
    "    print(e)\n",
    "# except:\n",
    "#     print(\"something else went wrong\")"
   ]
  },
  {
   "cell_type": "code",
   "execution_count": 60,
   "metadata": {},
   "outputs": [
    {
     "name": "stdout",
     "output_type": "stream",
     "text": [
      "name 'notdefined' is not defined\n",
      "This will print regardless\n"
     ]
    }
   ],
   "source": [
    "#finally\n",
    "try:\n",
    "    #divideByZero(2)\n",
    "    notdefined +=1\n",
    "    print(\"Hello\")\n",
    "except ZeroDivisionError:  \n",
    "    print(\"someone tried to divide by zero\") \n",
    "except Exception as e:\n",
    "    print(e)\n",
    "finally:\n",
    "    print(\"This will print regardless\")"
   ]
  },
  {
   "cell_type": "code",
   "execution_count": 69,
   "metadata": {},
   "outputs": [
    {
     "name": "stdout",
     "output_type": "stream",
     "text": [
      "3\n",
      "120\n"
     ]
    }
   ],
   "source": [
    "#import math as m\n",
    "from math import floor, factorial\n",
    "num = 3.14\n",
    "# print(m.floor(num))\n",
    "# print(math.factorial(10))\n",
    "# print(math.factorial(5))\n",
    "print(floor(num))\n",
    "print(factorial(5))"
   ]
  },
  {
   "cell_type": "code",
   "execution_count": 70,
   "metadata": {},
   "outputs": [
    {
     "ename": "IndentationError",
     "evalue": "expected an indented block after 'except' statement on line 10 (2183318291.py, line 12)",
     "output_type": "error",
     "traceback": [
      "\u001b[1;36m  Cell \u001b[1;32mIn[70], line 12\u001b[1;36m\u001b[0m\n\u001b[1;33m    factorial(-5)\u001b[0m\n\u001b[1;37m                 ^\u001b[0m\n\u001b[1;31mIndentationError\u001b[0m\u001b[1;31m:\u001b[0m expected an indented block after 'except' statement on line 10\n"
     ]
    }
   ],
   "source": [
    "def factorial(num):\n",
    "    try:\n",
    "        if num < 0:\n",
    "            raise Exception(\"No negative numbers please\")\n",
    "        if num == 0 or num == 1:\n",
    "            return 1\n",
    "        else:\n",
    "            return num * factorial(num-1)\n",
    "        \n",
    "    except Exception as e:\n",
    "\n",
    "factorial(-5)"
   ]
  },
  {
   "attachments": {},
   "cell_type": "markdown",
   "metadata": {},
   "source": [
    "# OOPS Concepts\n",
    "## 1. Objects\n",
    "An entity that has state and behavior is known as an object e.g., chair, bike, marker, pen, table, car, etc. It can be physical or logical.<br>\n",
    "An object has three characteristics:<br>\n",
    "- **State**: represents the data (value) of an object.<br>\n",
    "- **Behavior**: represents the behavior (functionality) of an object such as deposit, withdraw, etc.<br>\n",
    "- **Identity**: An object identity is typically implemented via a unique ID. The value of the ID is not visible to the external user. However, it is used internally by the JVM to identify each object uniquely.<br><br>\n",
    "## 2. Class\n",
    "A class is a collection of objects. A class contains the blueprints or the prototype from which the objects are being created. It is a logical entity that contains some attributes and methods. <br>\n",
    "- ### Writing a Class\n",
    "\n"
   ]
  },
  {
   "cell_type": "code",
   "execution_count": 71,
   "metadata": {},
   "outputs": [
    {
     "name": "stdout",
     "output_type": "stream",
     "text": [
      "0 True 0\n"
     ]
    },
    {
     "ename": "NameError",
     "evalue": "name 'myvehicle' is not defined",
     "output_type": "error",
     "traceback": [
      "\u001b[1;31m---------------------------------------------------------------------------\u001b[0m",
      "\u001b[1;31mNameError\u001b[0m                                 Traceback (most recent call last)",
      "Cell \u001b[1;32mIn[71], line 11\u001b[0m\n\u001b[0;32m      6\u001b[0m \u001b[38;5;28mtype\u001b[39m(myVehicle)\n\u001b[0;32m      7\u001b[0m \u001b[38;5;28mprint\u001b[39m(myVehicle\u001b[38;5;241m.\u001b[39mtyres,\n\u001b[0;32m      8\u001b[0m       myVehicle\u001b[38;5;241m.\u001b[39mengine,\n\u001b[0;32m      9\u001b[0m       myVehicle\u001b[38;5;241m.\u001b[39mwindows)\n\u001b[1;32m---> 11\u001b[0m \u001b[43mmyvehicle\u001b[49m\u001b[38;5;241m.\u001b[39mtyres \u001b[38;5;241m=\u001b[39m \u001b[38;5;241m2\u001b[39m\n\u001b[0;32m     12\u001b[0m \u001b[38;5;28mprint\u001b[39m(myVehicle\u001b[38;5;241m.\u001b[39mtyres)\n",
      "\u001b[1;31mNameError\u001b[0m: name 'myvehicle' is not defined"
     ]
    }
   ],
   "source": [
    "class Vehicle:\n",
    "    tyres = 0\n",
    "    engine = True\n",
    "    windows = 0\n",
    "myVehicle = Vehicle()\n",
    "type(myVehicle)\n",
    "print(myVehicle.tyres,\n",
    "      myVehicle.engine,\n",
    "      myVehicle.windows)\n",
    "\n",
    "myvehicle.tyres = 2\n",
    "print(myVehicle.tyres)\n",
    "    \n"
   ]
  },
  {
   "cell_type": "markdown",
   "metadata": {},
   "source": [
    "- ### Declaring a function"
   ]
  },
  {
   "cell_type": "code",
   "execution_count": 74,
   "metadata": {},
   "outputs": [
    {
     "name": "stdout",
     "output_type": "stream",
     "text": [
      "False\n",
      "True\n",
      "False\n"
     ]
    }
   ],
   "source": [
    "class Vehicle:\n",
    "    tyres = 0\n",
    "    engine = True\n",
    "    windows = 0\n",
    "    moving = False\n",
    "\n",
    "    def move(self):\n",
    "        self.moving = True\n",
    "    def stop(self):\n",
    "        self.moving = False\n",
    "\n",
    "myVehicle = Vehicle()\n",
    "print(myVehicle.moving)\n",
    "myVehicle.move()\n",
    "print(myVehicle.moving)\n",
    "myVehicle.stop()\n",
    "print(myVehicle.moving)"
   ]
  },
  {
   "attachments": {},
   "cell_type": "markdown",
   "metadata": {},
   "source": [
    "- ### `__init__(self)` function"
   ]
  },
  {
   "cell_type": "code",
   "execution_count": 78,
   "metadata": {},
   "outputs": [
    {
     "name": "stdout",
     "output_type": "stream",
     "text": [
      "2 True 0 True\n"
     ]
    }
   ],
   "source": [
    "class TwoWheeler:\n",
    "     def __init__(self):\n",
    "          self.tyres = 2\n",
    "          self.engine = True\n",
    "          self.windows = 0\n",
    "          self.move()\n",
    "     def move(self):\n",
    "          self.moving = True\n",
    "my_2_wheeler = TwoWheeler()\n",
    "print(my_2_wheeler.tyres, my_2_wheeler.engine, my_2_wheeler.windows, my_2_wheeler.moving)"
   ]
  },
  {
   "cell_type": "code",
   "execution_count": 79,
   "metadata": {},
   "outputs": [
    {
     "name": "stdout",
     "output_type": "stream",
     "text": [
      "6 False 4\n",
      "10 True 5\n"
     ]
    }
   ],
   "source": [
    "class CustomVehicle:\n",
    "     def __init__(self, wheels = 100, engine = True, windows = None):\n",
    "          self.tyres = wheels\n",
    "          self.engine = engine\n",
    "          self.windows = windows\n",
    "my_vehicle = CustomVehicle(6, False, 4)\n",
    "print(my_vehicle.tyres, my_vehicle.engine, my_vehicle.windows)\n",
    "weird_vehicle = CustomVehicle(wheels=10, windows=5)\n",
    "print(weird_vehicle.tyres, weird_vehicle.engine, weird_vehicle.windows)"
   ]
  },
  {
   "attachments": {},
   "cell_type": "markdown",
   "metadata": {},
   "source": [
    "- ### Class Methods"
   ]
  },
  {
   "cell_type": "code",
   "execution_count": null,
   "metadata": {},
   "outputs": [],
   "source": []
  },
  {
   "attachments": {},
   "cell_type": "markdown",
   "metadata": {},
   "source": [
    "## 3. Inheritance\n",
    "**Inheritance** is the capability of one class to derive or inherit the properties from another class. The class that derives properties is called the derived class or child class and the class from which the properties are being derived is called the base class or parent class.<br>\n",
    "The benefits of inheritance are: <br>\n",
    "- It represents real-world relationships well.\n",
    "- It provides the reusability of a code. We don’t have to write the same code again and again. Also, it allows us to add more features to a class without modifying it.\n",
    "- It is transitive in nature, which means that if class B inherits from another class A, then all the subclasses of B would automatically inherit from class A.<br>\n",
    "\n",
    "### Types of Inheritance <br>\n",
    "**Single Inheritance**:\n",
    "Single-level inheritance enables a derived class to inherit characteristics from a single-parent class.\n",
    "\n",
    "**Multilevel Inheritance**:\n",
    "Multi-level inheritance enables a derived class to inherit properties from an immediate parent class which in turn inherits properties from his parent class.\n",
    "\n",
    "**Hierarchical Inheritance**:\n",
    "Hierarchical level inheritance enables more than one derived class to inherit properties from a parent class.\n",
    "\n",
    "**Multiple Inheritance**:\n",
    "Multiple level inheritance enables one derived class to inherit properties from more than one base class.\n",
    "\n",
    "\n",
    "- ### Class Inheritance"
   ]
  },
  {
   "cell_type": "code",
   "execution_count": null,
   "metadata": {},
   "outputs": [],
   "source": [
    "class CustomVehicle:\n",
    "    def __init__(self, wheels = 100, engine = True, windows = None):\n",
    "          self.tyres = wheels\n",
    "          self.engine = engine\n",
    "          self.windows = windows\n",
    "\n",
    "    def move(self):\n",
    "         self.moving = True\n",
    "\n",
    "class Car(CustomVehicle):\n",
    "     def show_properties(self):\n",
    "          print(self.tyres)\n",
    "          print(self.engine)\n",
    "          print(self.windows)\n",
    "\n",
    "my_car = Car()\n",
    "my_car.show_properties()\n",
    "my_car.move()\n",
    "print(\"is moving:\", )"
   ]
  },
  {
   "cell_type": "markdown",
   "metadata": {},
   "source": [
    "- ### `super()` function"
   ]
  },
  {
   "cell_type": "code",
   "execution_count": null,
   "metadata": {},
   "outputs": [],
   "source": [
    "class CustomVehicle:\n",
    "    def __init__(self, wheels = 100, engine = True, windows = None):\n",
    "          self.tyres = wheels\n",
    "          self.engine = engine\n",
    "          self.windows = windows\n",
    "\n",
    "    def move(self):\n",
    "         self.moving = True\n",
    "\n",
    "class Car(CustomVehicle):\n",
    "    def __init__(self, wheels = 100, engine = True, windows = None, AC=False):\n",
    "          super().__init__(wheels, engine, windows)\n",
    "          self.AC = AC\n",
    "    \n",
    "    def show_properties(self):\n",
    "          print(self.tyres)\n",
    "          print(self.engine)\n",
    "          print(self.windows)\n",
    "          print(self.AC)\n",
    "\n",
    "    def"
   ]
  },
  {
   "cell_type": "markdown",
   "metadata": {},
   "source": [
    "- ### Adding more parameters to child class"
   ]
  },
  {
   "cell_type": "code",
   "execution_count": null,
   "metadata": {},
   "outputs": [],
   "source": []
  },
  {
   "attachments": {},
   "cell_type": "markdown",
   "metadata": {},
   "source": [
    "## 4. Polymorphism\n",
    "**Polymorphism**  refers to the use of a single type entity (method, operator or object) to represent different types in different scenarios. <br>\n",
    "*poly*: many, *moprhism*: form <br>\n",
    "***Example***: the `+` operator can be used on both int and string data types. <br>\n",
    "Similarly `len()` can be used on strings and data structures.<br>\n",
    "*Python does not support function overloading.*<br>\n",
    "### Implementing polymorphism with inherited classes"
   ]
  },
  {
   "cell_type": "code",
   "execution_count": null,
   "metadata": {},
   "outputs": [],
   "source": []
  },
  {
   "attachments": {},
   "cell_type": "markdown",
   "metadata": {},
   "source": [
    "## 5. Abstraction\n",
    "**Abstraction** in Programming is about hiding unwanted details while showing most essential information. <br>\n",
    "Eg: The `range()` function gives us a list of numbers but we are not aware of its implementation or underlying code.<br><br>\n",
    "### Using `__` to hide variables"
   ]
  },
  {
   "cell_type": "code",
   "execution_count": null,
   "metadata": {},
   "outputs": [],
   "source": []
  },
  {
   "attachments": {},
   "cell_type": "markdown",
   "metadata": {},
   "source": [
    "## 6. Encapsulation\n",
    "**Encapsulation** describes the idea of wrapping data and the methods that work on data within one unit. This puts restrictions on accessing variables and methods directly and can prevent the accidental modification of data. To prevent accidental change, an object’s variable can only be changed by an object’s method. <br><br>\n",
    "### Using `__`, getters, setters for encapsulation."
   ]
  },
  {
   "cell_type": "code",
   "execution_count": null,
   "metadata": {},
   "outputs": [],
   "source": [
    "class NewClass:\n",
    "    __clasNumber = 5\n",
    "\n",
    "    def getClassNumber(self):\n",
    "        return self.__clasNumber\n",
    "    \n",
    "    def setClassNumber(self, new_class_number):\n",
    "        self.__clasNumber = new_class_number\n",
    "        retun self.__clasNumber\n",
    "\n",
    "newObject = NewClass()\n",
    "print(newObject.getClassNumber())\n",
    "newObject.setClassNumber(1000)\n",
    "newObject.getClassNumber()\n",
    "\n",
    "def dummyFunction():\n",
    "    print(\"dummy\")\n",
    "\n",
    "newObject.setClassNumber = dummyFunction\n",
    "new_print = print\n",
    "print = dummyFunction\n",
    "new_print(\"hi\")\n",
    "print(\"hi again\")"
   ]
  }
 ],
 "metadata": {
  "kernelspec": {
   "display_name": "Python 3",
   "language": "python",
   "name": "python3"
  },
  "language_info": {
   "codemirror_mode": {
    "name": "ipython",
    "version": 3
   },
   "file_extension": ".py",
   "mimetype": "text/x-python",
   "name": "python",
   "nbconvert_exporter": "python",
   "pygments_lexer": "ipython3",
   "version": "3.10.0"
  },
  "orig_nbformat": 4
 },
 "nbformat": 4,
 "nbformat_minor": 2
}
